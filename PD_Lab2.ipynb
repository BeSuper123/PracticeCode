{
 "cells": [
  {
   "cell_type": "markdown",
   "metadata": {},
   "source": [
    "##### Lab 2\n",
    "### Question 1\n",
    "When you are finished you can leave the lab.\n",
    "Assignments bind values to a variable name. An Assignment in pretty much all languages looks something like this:"
   ]
  },
  {
   "cell_type": "code",
   "execution_count": 3,
   "metadata": {},
   "outputs": [
    {
     "name": "stdout",
     "output_type": "stream",
     "text": [
      "1 3\n"
     ]
    }
   ],
   "source": [
    "x = 1\n",
    "y = 3\n",
    "\n",
    "print(x, y)"
   ]
  },
  {
   "cell_type": "markdown",
   "metadata": {},
   "source": [
    "When we run the above code the values 1 and 3 are stored in memory and thess values are bound to the variable names x and y respectively. Can you write a piece of code that switches the values of the variables?"
   ]
  },
  {
   "cell_type": "code",
   "execution_count": 6,
   "metadata": {},
   "outputs": [
    {
     "name": "stdout",
     "output_type": "stream",
     "text": [
      "x = 3 , y = 1\n"
     ]
    }
   ],
   "source": [
    "x = 1\n",
    "y = 3\n",
    "\n",
    "z = x\n",
    "x = y\n",
    "y = z\n",
    "\n",
    "print(\"x =\", x, \", y =\", y)"
   ]
  },
  {
   "cell_type": "markdown",
   "metadata": {},
   "source": [
    "## Question 2\n",
    "\n",
    "Design an algorithm that takes the following three variables and puts the value of a in b, b in c and c in a. Check your answer using a print statement."
   ]
  },
  {
   "cell_type": "code",
   "execution_count": 3,
   "metadata": {},
   "outputs": [
    {
     "name": "stdout",
     "output_type": "stream",
     "text": [
      "a = 1 b = 2 c = 3\n",
      "a = 3 b = 1 c = 2\n"
     ]
    }
   ],
   "source": [
    "a = 1\n",
    "b = 2\n",
    "c = 3\n",
    "\n",
    "z = b\n",
    "\n",
    "print(\"a =\", a, \"b =\", b, \"c =\", c)\n",
    "\n",
    "b = a\n",
    "a = c\n",
    "c = z\n",
    "\n",
    "print(\"a =\", a, \"b =\", b, \"c =\", c)\n",
    "\n"
   ]
  },
  {
   "cell_type": "markdown",
   "metadata": {},
   "source": [
    "### Question 3"
   ]
  },
  {
   "cell_type": "code",
   "execution_count": 6,
   "metadata": {},
   "outputs": [
    {
     "name": "stdout",
     "output_type": "stream",
     "text": [
      "First statement - Hello, I am inside the IF statement!\n"
     ]
    }
   ],
   "source": [
    "y = 5\n",
    "\n",
    "if y > 4:\n",
    "    print('First statement - Hello, I am inside the IF statement!')\n",
    "else:\n",
    "    print('Second statement - Hello, I am inside the Else part!')"
   ]
  },
  {
   "cell_type": "markdown",
   "metadata": {},
   "source": [
    "Can you change the above statement to print the first statement?"
   ]
  },
  {
   "cell_type": "markdown",
   "metadata": {},
   "source": [
    "### Question 4\n",
    "Take a look at the code below and see if you can answer the questions following it."
   ]
  },
  {
   "cell_type": "code",
   "execution_count": 14,
   "metadata": {},
   "outputs": [
    {
     "name": "stdout",
     "output_type": "stream",
     "text": [
      "fare =  5\n"
     ]
    }
   ],
   "source": [
    "age = 67\n",
    "\n",
    "if age > 67:\n",
    "    fare = 0\n",
    "else:\n",
    "    fare = 5\n",
    "\n",
    "print('fare = ', fare)"
   ]
  },
  {
   "cell_type": "markdown",
   "metadata": {},
   "source": [
    "If age is 67 what would the fare be? First work it out then experiment with the code. Can you change the code above to find out?"
   ]
  },
  {
   "cell_type": "markdown",
   "metadata": {},
   "source": [
    "## Question 5\n",
    "Can you work out what the below loop does? As the loop iterates, can you print out the total and the value of the variable i on each iteration? Can you change it to print the word 'hello' when the variable 'i' has the value 6?"
   ]
  },
  {
   "cell_type": "code",
   "execution_count": 18,
   "metadata": {},
   "outputs": [
    {
     "name": "stdout",
     "output_type": "stream",
     "text": [
      "1\n",
      "2\n",
      "3\n",
      "4\n",
      "5\n",
      "hello\n",
      "7\n",
      "8\n",
      "9\n",
      "10\n"
     ]
    }
   ],
   "source": [
    "i = 0\n",
    "total = 0\n",
    "\n",
    "while i < 10:\n",
    "    total = total + 1\n",
    "    i = i + 1\n",
    "    \n",
    "    if i == 6:\n",
    "        print (\"hello\")\n",
    "    else:\n",
    "        print(i)\n",
    "    "
   ]
  },
  {
   "cell_type": "markdown",
   "metadata": {},
   "source": [
    "## Qustion 6\n",
    "Write a program that uses a loop to calculate the sum of the following series: ask the user for a positive integer, N, and outputs the sum of the series 1 + 1/2 + 1/3 + ... + 1/N."
   ]
  },
  {
   "cell_type": "code",
   "execution_count": 1,
   "metadata": {},
   "outputs": [
    {
     "name": "stdout",
     "output_type": "stream",
     "text": [
      "Enter a positive number: 7\n",
      "2.5928571428571425\n"
     ]
    }
   ],
   "source": [
    "N = int(input(\"Enter a positive number: \"))\n",
    "\n",
    "i = 1\n",
    "sum = 0\n",
    "\n",
    "while (i <= N):\n",
    "    sum += 1 / i\n",
    "    i += 1\n",
    "    \n",
    "print(sum)"
   ]
  }
 ],
 "metadata": {
  "kernelspec": {
   "display_name": "Python 3 (ipykernel)",
   "language": "python",
   "name": "python3"
  },
  "language_info": {
   "codemirror_mode": {
    "name": "ipython",
    "version": 3
   },
   "file_extension": ".py",
   "mimetype": "text/x-python",
   "name": "python",
   "nbconvert_exporter": "python",
   "pygments_lexer": "ipython3",
   "version": "3.11.4"
  }
 },
 "nbformat": 4,
 "nbformat_minor": 4
}

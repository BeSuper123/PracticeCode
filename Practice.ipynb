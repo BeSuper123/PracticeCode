{
 "cells": [
  {
   "cell_type": "code",
   "execution_count": 2,
   "id": "5e2338b2",
   "metadata": {},
   "outputs": [
    {
     "name": "stdout",
     "output_type": "stream",
     "text": [
      "Enter an integer: 50\n",
      "Enter an integer: 50\n",
      "Enter an integer: 50\n",
      "Enter an integer: 50\n",
      "Enter an integer: 50\n",
      "Enter an integer: 50\n",
      "Enter an integer: 50\n",
      "Enter an integer: 50\n",
      "Enter an integer: 50\n",
      "Enter an integer: 50\n",
      "The number of elements over 50 is: 0\n"
     ]
    }
   ],
   "source": [
    "count = 0\n",
    "\n",
    "for i in range(0, 10):\n",
    "  userName = int(input(\"Enter an integer: \"))\n",
    "\n",
    "  if (userName > 50):\n",
    "    count += 1\n",
    "\n",
    "print(\"\\nThe number of elements over 50 is:\", count)"
   ]
  },
  {
   "cell_type": "code",
   "execution_count": 11,
   "id": "7b9fdc8f",
   "metadata": {},
   "outputs": [
    {
     "name": "stdout",
     "output_type": "stream",
     "text": [
      "The average: 6.5\n"
     ]
    }
   ],
   "source": [
    "'''\n",
    "Problem: Calculate the Average\n",
    "\n",
    "Write a Python program that calculates the average of a list of numbers entered by the user. \n",
    "The program should do the following:\n",
    "\n",
    "1. Prompt the user to enter the number of values they want to average.\n",
    "2. Then, ask the user to input those values one by one.\n",
    "3. Calculate the average of the entered values.\n",
    "4. Finally, display the calculated average.\n",
    "'''\n",
    "\n",
    "i = 0\n",
    "total = 0\n",
    "\n",
    "value = int(input(\"How many numbers do you want to enter?\\n\"))\n",
    "\n",
    "for i in range(value):\n",
    "    userName = int(input(\"Enter a number:\"))\n",
    "    \n",
    "    total = total + userName\n",
    "    i = i + 1\n",
    "    \n",
    "total = total/i \n",
    "print(\"The average:\", total)\n",
    "\n",
    "\n"
   ]
  },
  {
   "cell_type": "code",
   "execution_count": 4,
   "id": "26020318",
   "metadata": {},
   "outputs": [
    {
     "name": "stdout",
     "output_type": "stream",
     "text": [
      "Hi bb !\n",
      "Welcome to Hangman!\n",
      "\n",
      "You have 7 lives and you have to guess exactly what the word is.\n",
      "GOOD LUCK!!\n",
      "________\n",
      "________\n",
      "________\n",
      "_____i__\n",
      "_____i__\n",
      "f____if_\n",
      "f__k_if_\n",
      "f__k_ift\n",
      "fo_k_ift\n",
      "fork_ift\n",
      "forklift\n",
      "forklift\n",
      "forklift\n"
     ]
    },
    {
     "ename": "KeyboardInterrupt",
     "evalue": "Interrupted by user",
     "output_type": "error",
     "traceback": [
      "\u001b[1;31m---------------------------------------------------------------------------\u001b[0m",
      "\u001b[1;31mKeyboardInterrupt\u001b[0m                         Traceback (most recent call last)",
      "\u001b[1;32mc:\\Users\\bugoc\\OneDrive\\Desktop\\Uni Modules\\Programming\\Pyhon_Programs\\Practice.ipynb Cell 3\u001b[0m line \u001b[0;36m5\n\u001b[0;32m     <a href='vscode-notebook-cell:/c%3A/Users/bugoc/OneDrive/Desktop/Uni%20Modules/Programming/Pyhon_Programs/Practice.ipynb#X25sZmlsZQ%3D%3D?line=52'>53</a>\u001b[0m \u001b[39mprint\u001b[39m(displayed_word)\n\u001b[0;32m     <a href='vscode-notebook-cell:/c%3A/Users/bugoc/OneDrive/Desktop/Uni%20Modules/Programming/Pyhon_Programs/Practice.ipynb#X25sZmlsZQ%3D%3D?line=54'>55</a>\u001b[0m \u001b[39m# Allows the user to guess a letter \u001b[39;00m\n\u001b[1;32m---> <a href='vscode-notebook-cell:/c%3A/Users/bugoc/OneDrive/Desktop/Uni%20Modules/Programming/Pyhon_Programs/Practice.ipynb#X25sZmlsZQ%3D%3D?line=55'>56</a>\u001b[0m guess \u001b[39m=\u001b[39m \u001b[39mstr\u001b[39m(\u001b[39minput\u001b[39;49m(\u001b[39m\"\u001b[39;49m\u001b[39mGuess a letter:\u001b[39;49m\u001b[39m\"\u001b[39;49m))\n\u001b[0;32m     <a href='vscode-notebook-cell:/c%3A/Users/bugoc/OneDrive/Desktop/Uni%20Modules/Programming/Pyhon_Programs/Practice.ipynb#X25sZmlsZQ%3D%3D?line=57'>58</a>\u001b[0m \u001b[39mif\u001b[39;00m guess \u001b[39mnot\u001b[39;00m \u001b[39min\u001b[39;00m guessed_letters:\n\u001b[0;32m     <a href='vscode-notebook-cell:/c%3A/Users/bugoc/OneDrive/Desktop/Uni%20Modules/Programming/Pyhon_Programs/Practice.ipynb#X25sZmlsZQ%3D%3D?line=58'>59</a>\u001b[0m     guessed_letters\u001b[39m.\u001b[39madd(guess)\n",
      "File \u001b[1;32m~\\AppData\\Local\\Packages\\PythonSoftwareFoundation.Python.3.10_qbz5n2kfra8p0\\LocalCache\\local-packages\\Python310\\site-packages\\ipykernel\\kernelbase.py:1202\u001b[0m, in \u001b[0;36mKernel.raw_input\u001b[1;34m(self, prompt)\u001b[0m\n\u001b[0;32m   1200\u001b[0m     msg \u001b[39m=\u001b[39m \u001b[39m\"\u001b[39m\u001b[39mraw_input was called, but this frontend does not support input requests.\u001b[39m\u001b[39m\"\u001b[39m\n\u001b[0;32m   1201\u001b[0m     \u001b[39mraise\u001b[39;00m StdinNotImplementedError(msg)\n\u001b[1;32m-> 1202\u001b[0m \u001b[39mreturn\u001b[39;00m \u001b[39mself\u001b[39;49m\u001b[39m.\u001b[39;49m_input_request(\n\u001b[0;32m   1203\u001b[0m     \u001b[39mstr\u001b[39;49m(prompt),\n\u001b[0;32m   1204\u001b[0m     \u001b[39mself\u001b[39;49m\u001b[39m.\u001b[39;49m_parent_ident[\u001b[39m\"\u001b[39;49m\u001b[39mshell\u001b[39;49m\u001b[39m\"\u001b[39;49m],\n\u001b[0;32m   1205\u001b[0m     \u001b[39mself\u001b[39;49m\u001b[39m.\u001b[39;49mget_parent(\u001b[39m\"\u001b[39;49m\u001b[39mshell\u001b[39;49m\u001b[39m\"\u001b[39;49m),\n\u001b[0;32m   1206\u001b[0m     password\u001b[39m=\u001b[39;49m\u001b[39mFalse\u001b[39;49;00m,\n\u001b[0;32m   1207\u001b[0m )\n",
      "File \u001b[1;32m~\\AppData\\Local\\Packages\\PythonSoftwareFoundation.Python.3.10_qbz5n2kfra8p0\\LocalCache\\local-packages\\Python310\\site-packages\\ipykernel\\kernelbase.py:1245\u001b[0m, in \u001b[0;36mKernel._input_request\u001b[1;34m(self, prompt, ident, parent, password)\u001b[0m\n\u001b[0;32m   1242\u001b[0m \u001b[39mexcept\u001b[39;00m \u001b[39mKeyboardInterrupt\u001b[39;00m:\n\u001b[0;32m   1243\u001b[0m     \u001b[39m# re-raise KeyboardInterrupt, to truncate traceback\u001b[39;00m\n\u001b[0;32m   1244\u001b[0m     msg \u001b[39m=\u001b[39m \u001b[39m\"\u001b[39m\u001b[39mInterrupted by user\u001b[39m\u001b[39m\"\u001b[39m\n\u001b[1;32m-> 1245\u001b[0m     \u001b[39mraise\u001b[39;00m \u001b[39mKeyboardInterrupt\u001b[39;00m(msg) \u001b[39mfrom\u001b[39;00m \u001b[39mNone\u001b[39;00m\n\u001b[0;32m   1246\u001b[0m \u001b[39mexcept\u001b[39;00m \u001b[39mException\u001b[39;00m:\n\u001b[0;32m   1247\u001b[0m     \u001b[39mself\u001b[39m\u001b[39m.\u001b[39mlog\u001b[39m.\u001b[39mwarning(\u001b[39m\"\u001b[39m\u001b[39mInvalid Message:\u001b[39m\u001b[39m\"\u001b[39m, exc_info\u001b[39m=\u001b[39m\u001b[39mTrue\u001b[39;00m)\n",
      "\u001b[1;31mKeyboardInterrupt\u001b[0m: Interrupted by user"
     ]
    }
   ],
   "source": [
    "'''\n",
    "Making hangman using python\n",
    "'''\n",
    "\n",
    "import random\n",
    "\n",
    "# List of words for Hangman game\n",
    "word_list = [\"python\", \"hangman\", \"programming\", \"forklift\", \"random\", \"word\", \"guess\", \"poohead\", \"slutina\"]\n",
    "random_word = random.choice(word_list)\n",
    "\n",
    "# shows the length of the word\n",
    "size = len(set(random_word))\n",
    "\n",
    "\n",
    "guessed_letters = set() # Puts an empty list for guessed letters\n",
    "ans = \"K\"\n",
    "i = 0\n",
    "x = 0\n",
    "\n",
    "\n",
    "# Allows user to enter a username\n",
    "userName = str(input(\"What's your name?\"))\n",
    "print(\"Hi\", userName, \"!\")\n",
    "\n",
    "# Asks the user if they would like to play the game\n",
    "while ans != \"Y\" or ans != \"y\" or ans != \"N\" or ans != \"n\":\n",
    "    ans = str(input(\"Would you like to answer a game? [Y/N]\"))\n",
    "    \n",
    "    if ans == \"Y\" or ans == \"y\" or ans == \"N\" or ans == \"n\":\n",
    "        break\n",
    "    else:\n",
    "        print(\"Please enter either 'Y' or 'N' for this question!\\n\")\n",
    "        \n",
    "# If the user answered 'N'\n",
    "if ans == \"N\" or ans == \"n\":\n",
    "    print(\"Have a nice day\", userName, \"!\")\n",
    "    \n",
    "# If the user answered 'Y'\n",
    "else:\n",
    "    print(\"Welcome to Hangman!\\n\")\n",
    "    print(\"You have 7 lives and you have to guess exactly what the word is.\\nGOOD LUCK!!\")\n",
    "\n",
    "    # Only lets you make 7 mistakes\n",
    "    while i < 7:\n",
    "    \n",
    "        # Displays an '_' if the guess is wrong and the letter if right\n",
    "        displayed_word = \"\"\n",
    "        for letter in random_word:\n",
    "            if letter in guessed_letters:\n",
    "                displayed_word += letter\n",
    "            else:\n",
    "                displayed_word += \"_\"\n",
    "        print(displayed_word)\n",
    "        \n",
    "        # Allows the user to guess a letter \n",
    "        guess = str(input(\"Guess a letter:\"))\n",
    "        \n",
    "        if guess not in guessed_letters:\n",
    "            guessed_letters.add(guess)\n",
    "            \n",
    "        # Only adds this part if the guessed letter is not in the word\n",
    "        if guess not in random_word:\n",
    "            i = i + 1\n",
    "            \n",
    "        \n",
    "        # If all letters are guessed correctly\n",
    "        if set(guessed_letters) == set(random_word):\n",
    "            print(\"\\nCongratulations!! You guessed the word correctly!\\nGood Job\", userName)\n",
    "            break\n",
    "\n",
    "            \n",
    "\n"
   ]
  },
  {
   "cell_type": "code",
   "execution_count": 4,
   "id": "033aba95",
   "metadata": {},
   "outputs": [
    {
     "name": "stdout",
     "output_type": "stream",
     "text": [
      "Random word for Hangman: game\n"
     ]
    }
   ],
   "source": [
    "import random\n",
    "\n",
    "# List of words for Hangman game\n",
    "word_list = [\"python\", \"hangman\", \"programming\", \"game\", \"random\", \"word\", \"guess\"]\n",
    "\n",
    "# Choose a random word from the word list\n",
    "random_word = random.choice(word_list)\n",
    "\n",
    "# Now 'random_word' contains the randomly selected word for the game\n",
    "print(\"Random word for Hangman:\", random_word)\n"
   ]
  }
 ],
 "metadata": {
  "kernelspec": {
   "display_name": "Python 3 (ipykernel)",
   "language": "python",
   "name": "python3"
  },
  "language_info": {
   "codemirror_mode": {
    "name": "ipython",
    "version": 3
   },
   "file_extension": ".py",
   "mimetype": "text/x-python",
   "name": "python",
   "nbconvert_exporter": "python",
   "pygments_lexer": "ipython3",
   "version": "3.10.11"
  }
 },
 "nbformat": 4,
 "nbformat_minor": 5
}

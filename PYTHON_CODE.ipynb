{
 "cells": [
  {
   "cell_type": "code",
   "execution_count": 11,
   "id": "04f3f357",
   "metadata": {},
   "outputs": [
    {
     "name": "stdout",
     "output_type": "stream",
     "text": [
      "Enter your first number: 2\n",
      "Enter your second number: 2\n",
      "The answer is  4\n"
     ]
    }
   ],
   "source": [
    "# A program demonstrating an exponentiation algorithm where a is to the power of b\n",
    "# Example: a = 5, b = 3 = > 5 x 5 x 5 = 125\n",
    "\n",
    "a = int(input(\"Enter your first number: \"))\n",
    "\n",
    "b = int(input(\"Enter your second number: \"))\n",
    "sum = a\n",
    "\n",
    "while (b > 1):\n",
    "    sum = sum * a\n",
    "    b-= 1\n",
    "    \n",
    "print(\"The answer is \", sum);\n",
    "\n"
   ]
  },
  {
   "cell_type": "code",
   "execution_count": 1,
   "id": "5d23df02",
   "metadata": {},
   "outputs": [
    {
     "name": "stdout",
     "output_type": "stream",
     "text": [
      "Guess a number: 5\n",
      "Your number is too low\n",
      "\n",
      "Guess a number: 8\n",
      "Your number is too high\n",
      "\n",
      "Guess a number: 6\n",
      "Congratulations you guessed it right\n"
     ]
    }
   ],
   "source": [
    "import random\n",
    "\n",
    "i = 3\n",
    "target = random.randint(1, 10)\n",
    "\n",
    "while (i != 0):\n",
    "    ans = int(input(\"Guess a number: \"))\n",
    "    i-=1\n",
    "    \n",
    "    if ans > target:\n",
    "        print(\"Your number is too high\\n\")\n",
    "    elif ans < target:\n",
    "        print(\"Your number is too low\\n\")\n",
    "    \n",
    "    \n",
    "    if ans == target:\n",
    "        print(\"Congratulations you guessed it right\")\n",
    "        break\n",
    "        \n",
    "if i == 0:\n",
    "    if ans != target:\n",
    "        print(\"\\nAww shucks you got it wrong. \\nThe answer was\", target)"
   ]
  },
  {
   "cell_type": "code",
   "execution_count": 8,
   "id": "66fb02ed",
   "metadata": {},
   "outputs": [
    {
     "name": "stdout",
     "output_type": "stream",
     "text": [
      "How old are you? 18\n",
      "Do you have a leapcard? Y/N: y\n"
     ]
    },
    {
     "ename": "AttributeError",
     "evalue": "'str' object has no attribute 'ignoreLowerCase'",
     "output_type": "error",
     "traceback": [
      "\u001b[1;31m---------------------------------------------------------------------------\u001b[0m",
      "\u001b[1;31mAttributeError\u001b[0m                            Traceback (most recent call last)",
      "Cell \u001b[1;32mIn[8], line 17\u001b[0m\n\u001b[0;32m     13\u001b[0m fare \u001b[38;5;241m=\u001b[39m \u001b[38;5;241m5\u001b[39m\n\u001b[0;32m     15\u001b[0m leapCard \u001b[38;5;241m=\u001b[39m \u001b[38;5;28mstr\u001b[39m(\u001b[38;5;28minput\u001b[39m(\u001b[38;5;124m\"\u001b[39m\u001b[38;5;124mDo you have a leapcard? Y/N: \u001b[39m\u001b[38;5;124m\"\u001b[39m))\n\u001b[1;32m---> 17\u001b[0m \u001b[38;5;28;01mif\u001b[39;00m leapCard\u001b[38;5;241m.\u001b[39mignoreLowerCase \u001b[38;5;241m==\u001b[39m \u001b[38;5;124m\"\u001b[39m\u001b[38;5;124mY\u001b[39m\u001b[38;5;124m\"\u001b[39m:\n\u001b[0;32m     18\u001b[0m     fare \u001b[38;5;241m=\u001b[39m \u001b[38;5;241m2\u001b[39m\n\u001b[0;32m     19\u001b[0m \u001b[38;5;28;01melse\u001b[39;00m:\n",
      "\u001b[1;31mAttributeError\u001b[0m: 'str' object has no attribute 'ignoreLowerCase'"
     ]
    }
   ],
   "source": [
    "#making a bus fare calculation\n",
    "fare = 0\n",
    "\n",
    "age = int(input(\"How old are you? \"))\n",
    "\n",
    "if age < 6:\n",
    "    fare = 0\n",
    "    \n",
    "elif age >= 67:\n",
    "    fare = 0\n",
    "    \n",
    "else:\n",
    "    fare = 5\n",
    "    \n",
    "    leapCard = str(input(\"Do you have a leapcard? Y/N: \"))\n",
    "            \n",
    "    if leapCard == \"Y\":\n",
    "        fare = 2\n",
    "    else:\n",
    "        fare = 5\n",
    "        \n",
    "\n",
    "print(\"\\nThe fare is\", fare)"
   ]
  }
 ],
 "metadata": {
  "kernelspec": {
   "display_name": "Python 3 (ipykernel)",
   "language": "python",
   "name": "python3"
  },
  "language_info": {
   "codemirror_mode": {
    "name": "ipython",
    "version": 3
   },
   "file_extension": ".py",
   "mimetype": "text/x-python",
   "name": "python",
   "nbconvert_exporter": "python",
   "pygments_lexer": "ipython3",
   "version": "3.11.4"
  }
 },
 "nbformat": 4,
 "nbformat_minor": 5
}

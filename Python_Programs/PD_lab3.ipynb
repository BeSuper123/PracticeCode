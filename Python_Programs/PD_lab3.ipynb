{
 "cells": [
  {
   "cell_type": "markdown",
   "metadata": {},
   "source": [
    "## Question 1\n",
    "The code below reads in integer variables a, b, c. Can you sort the values in the variables - a having the smallest of the three values, b the middle valus and c the largest - using only if statements? Use test values and print the variable names and values to check your answer."
   ]
  },
  {
   "cell_type": "code",
   "execution_count": null,
   "metadata": {},
   "outputs": [],
   "source": []
  },
  {
   "cell_type": "code",
   "execution_count": 8,
   "metadata": {},
   "outputs": [
    {
     "name": "stdout",
     "output_type": "stream",
     "text": [
      "2 3 7\n"
     ]
    }
   ],
   "source": [
    "a = int(input('please enter a value for a\\n'))\n",
    "b = int(input('please enter a value for b\\n'))\n",
    "c = int(input('please enter a value for c\\n'))\n",
    "temp = 0\n",
    "\n",
    "if a > b:\n",
    "    temp = a\n",
    "    a = b\n",
    "    b = temp\n",
    "elif a > c:\n",
    "    temp = a\n",
    "    a = c\n",
    "    c = temp\n",
    "elif b > c:\n",
    "    temp = b\n",
    "    b = c\n",
    "    c = temp\n",
    "    \n",
    "#print the values in sorted order\n",
    "print(a, b, c)\n"
   ]
  },
  {
   "cell_type": "markdown",
   "metadata": {},
   "source": [
    "## Question 2\n",
    "The folowing is the expression for converting temperature in celsius to farenheit:  \n",
    "F = (C × 9/5) + 32  \n",
    "where C is the temperature in celsius and F is the tmperature in farenheit. Write a program that prints out the tempertures in celsius from 0 to 100 in increments of 10 with the corresponding temperatures in farenheit."
   ]
  },
  {
   "cell_type": "code",
   "execution_count": 5,
   "metadata": {},
   "outputs": [
    {
     "name": "stdout",
     "output_type": "stream",
     "text": [
      "Celcius = 0 , while Farenheit = 32.0\n",
      "Celcius = 10 , while Farenheit = 50.0\n",
      "Celcius = 20 , while Farenheit = 68.0\n",
      "Celcius = 30 , while Farenheit = 86.0\n",
      "Celcius = 40 , while Farenheit = 104.0\n",
      "Celcius = 50 , while Farenheit = 122.0\n",
      "Celcius = 60 , while Farenheit = 140.0\n",
      "Celcius = 70 , while Farenheit = 158.0\n",
      "Celcius = 80 , while Farenheit = 176.0\n",
      "Celcius = 90 , while Farenheit = 194.0\n",
      "Celcius = 100 , while Farenheit = 212.0\n"
     ]
    }
   ],
   "source": [
    "C = 0\n",
    "\n",
    "while C < 101:\n",
    "    F = (C * 9/5) + 32 \n",
    "    print (\"Celcius =\", C, \", while Farenheit =\", F)\n",
    "    C+=10\n",
    "    "
   ]
  },
  {
   "cell_type": "markdown",
   "metadata": {},
   "source": [
    "## Question 3\n",
    "Can you design an algorithm that reads in 2 integers and simulates multiplication using a loop and addition? Test your algorithm with different vaules. Can you make it work for positive and negative numbers using only if else, loops, addition and subtraction?"
   ]
  },
  {
   "cell_type": "code",
   "execution_count": 24,
   "metadata": {},
   "outputs": [
    {
     "name": "stdout",
     "output_type": "stream",
     "text": [
      "\n",
      "The total multiplication value is 9\n"
     ]
    }
   ],
   "source": [
    "a = int(input('please enter a value for A\\n'))\n",
    "b = int(input('please enter a value for B\\n'))\n",
    "i = 1\n",
    "total = a\n",
    "\n",
    "while i < b:\n",
    "    total += a\n",
    "    i += 1\n",
    "    \n",
    "while i > b:\n",
    "    total -= a\n",
    "    i -= 1\n",
    "    \n",
    "print(\"\\nThe total multiplication value is\", total)"
   ]
  },
  {
   "cell_type": "markdown",
   "metadata": {},
   "source": [
    "## Question 4 \n",
    "Write an algorithm that asks for 10 integers between 0 and 100 inclusive (using a loop). Astotale that integers are entered, but not that they are valid values (i.e. the entered integers have values outside the requested range). Only count vald entries. Print the total of all the valid integers enetered after all 10 valid integers have been entered. "
   ]
  },
  {
   "cell_type": "code",
   "execution_count": 4,
   "metadata": {},
   "outputs": [
    {
     "name": "stdout",
     "output_type": "stream",
     "text": [
      "\n",
      "The sum of your values is: 74\n"
     ]
    }
   ],
   "source": [
    "i = 0\n",
    "total = 0\n",
    "\n",
    "while i < 10:\n",
    "    N = int(input('please enter a value between 0 and 100\\n'))\n",
    "    \n",
    "    if N >= 0 and N <= 100:\n",
    "        total += N\n",
    "    i+=1\n",
    "        \n",
    "print(\"\\nThe total of your values is:\", total)\n",
    "    "
   ]
  },
  {
   "cell_type": "code",
   "execution_count": 2,
   "metadata": {},
   "outputs": [
    {
     "name": "stdout",
     "output_type": "stream",
     "text": [
      "heyo mano\n",
      "heyo mano\n",
      "heyo mano\n"
     ]
    }
   ],
   "source": [
    "i = 0\n",
    "n = 3\n",
    "\n",
    "while i < n:\n",
    "    print(\"heyo mano\")\n",
    "    i+=1"
   ]
  },
  {
   "cell_type": "code",
   "execution_count": 3,
   "metadata": {},
   "outputs": [
    {
     "name": "stdout",
     "output_type": "stream",
     "text": [
      "1\n",
      "2\n",
      "3\n",
      "4\n",
      "5\n"
     ]
    }
   ],
   "source": [
    "i = 1\n",
    "x = 3\n",
    "\n",
    "while i < 6:\n",
    "    print(i)\n",
    "    i += 1\n",
    "    "
   ]
  },
  {
   "cell_type": "code",
   "execution_count": null,
   "metadata": {},
   "outputs": [],
   "source": [
    "N = 0\n",
    "M = 1\n",
    "F = 1\n",
    "\n",
    "while \n"
   ]
  }
 ],
 "metadata": {
  "kernelspec": {
   "display_name": "Python 3 (ipykernel)",
   "language": "python",
   "name": "python3"
  },
  "language_info": {
   "codemirror_mode": {
    "name": "ipython",
    "version": 3
   },
   "file_extension": ".py",
   "mimetype": "text/x-python",
   "name": "python",
   "nbconvert_exporter": "python",
   "pygments_lexer": "ipython3",
   "version": "3.10.11"
  }
 },
 "nbformat": 4,
 "nbformat_minor": 4
}

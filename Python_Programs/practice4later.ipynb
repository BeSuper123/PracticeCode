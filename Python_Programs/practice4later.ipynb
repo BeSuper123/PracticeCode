{
 "cells": [
  {
   "cell_type": "code",
   "execution_count": 8,
   "metadata": {},
   "outputs": [
    {
     "name": "stdout",
     "output_type": "stream",
     "text": [
      "60.2\n"
     ]
    }
   ],
   "source": [
    "Sum = 0\n",
    "C = 0 \n",
    "S = 0\n",
    "Av = 0\n",
    "\n",
    "\n",
    "while C != 5:\n",
    "    S = int(input(\"Enter exam scores:\"))\n",
    "\n",
    "    Sum += S\n",
    "    C += 1\n",
    "Av = Sum/5\n",
    "\n",
    "print(Av)\n"
   ]
  },
  {
   "cell_type": "code",
   "execution_count": 5,
   "metadata": {},
   "outputs": [
    {
     "name": "stdout",
     "output_type": "stream",
     "text": [
      "[2, 3, 4, 5, 6, 7, 8, 9, 2, 1]\n"
     ]
    }
   ],
   "source": [
    "hist = []\n",
    "total = 0\n",
    "for i in range(0, 10):\n",
    "    N = int(input(\"Enter an integer: \"))\n",
    "    hist.append(N)\n",
    "    i = i + 1\n",
    "    \n",
    "print(hist)"
   ]
  },
  {
   "cell_type": "code",
   "execution_count": 15,
   "metadata": {},
   "outputs": [
    {
     "name": "stdout",
     "output_type": "stream",
     "text": [
      "Number of digits: 5\n"
     ]
    }
   ],
   "source": [
    "num = int(input(\"Enter a positive integer: \"))\n",
    "count = 0\n",
    "numCount = 1\n",
    "\n",
    "while num >= 0:\n",
    "    if num > numCount:\n",
    "        count = count + 1\n",
    "        numCount = numCount * 10\n",
    "    else:\n",
    "        print(\"Number of digits:\", count)\n",
    "        break\n",
    "if num < 0:\n",
    "    print(\"This is not a positive integer :(\")"
   ]
  },
  {
   "cell_type": "code",
   "execution_count": 9,
   "metadata": {},
   "outputs": [
    {
     "name": "stdout",
     "output_type": "stream",
     "text": [
      "1 by 1 is 1\n",
      "1 by 2 is 2\n",
      "1 by 3 is 3\n",
      "1 by 4 is 4\n",
      "1 by 5 is 5\n",
      "1 by 6 is 6\n",
      "1 by 7 is 7\n",
      "1 by 8 is 8\n",
      "1 by 9 is 9\n",
      "1 by 10 is 10\n",
      "1 by 11 is 11\n",
      "1 by 12 is 12\n",
      "2 by 1 is 2\n",
      "2 by 2 is 4\n",
      "2 by 3 is 6\n",
      "2 by 4 is 8\n",
      "2 by 5 is 10\n",
      "2 by 6 is 12\n",
      "2 by 7 is 14\n",
      "2 by 8 is 16\n",
      "2 by 9 is 18\n",
      "2 by 10 is 20\n",
      "2 by 11 is 22\n",
      "2 by 12 is 24\n",
      "3 by 1 is 3\n",
      "3 by 2 is 6\n",
      "3 by 3 is 9\n",
      "3 by 4 is 12\n",
      "3 by 5 is 15\n",
      "3 by 6 is 18\n",
      "3 by 7 is 21\n",
      "3 by 8 is 24\n",
      "3 by 9 is 27\n",
      "3 by 10 is 30\n",
      "3 by 11 is 33\n",
      "3 by 12 is 36\n",
      "4 by 1 is 4\n",
      "4 by 2 is 8\n",
      "4 by 3 is 12\n",
      "4 by 4 is 16\n",
      "4 by 5 is 20\n",
      "4 by 6 is 24\n",
      "4 by 7 is 28\n",
      "4 by 8 is 32\n",
      "4 by 9 is 36\n",
      "4 by 10 is 40\n",
      "4 by 11 is 44\n",
      "4 by 12 is 48\n",
      "5 by 1 is 5\n",
      "5 by 2 is 10\n",
      "5 by 3 is 15\n",
      "5 by 4 is 20\n",
      "5 by 5 is 25\n",
      "5 by 6 is 30\n",
      "5 by 7 is 35\n",
      "5 by 8 is 40\n",
      "5 by 9 is 45\n",
      "5 by 10 is 50\n",
      "5 by 11 is 55\n",
      "5 by 12 is 60\n"
     ]
    }
   ],
   "source": [
    "i = 1\n",
    "j = 1\n",
    "\n",
    "while i < 6:\n",
    "    j = 1\n",
    "    while j < 13:\n",
    "        total = i * j\n",
    "        print(i, \"by\", j, \"is\", total)\n",
    "        j = j + 1\n",
    "    i = i + 1"
   ]
  },
  {
   "cell_type": "code",
   "execution_count": 16,
   "metadata": {},
   "outputs": [
    {
     "name": "stdout",
     "output_type": "stream",
     "text": [
      "Max: 5 , first occurence: 4 , last occurence: 11\n"
     ]
    }
   ],
   "source": [
    "arr = [1, 2, 3, 4, 5, 4, 5, 4, 3, 2, 4, 5, 3, 2]\n",
    "first = 0\n",
    "last = 0\n",
    "maximum = arr[0]\n",
    "i = 0\n",
    "\n",
    "while i < len(arr):\n",
    "    if arr[i] > maximum:\n",
    "        maximum = arr[i]\n",
    "        first = i\n",
    "        last = i\n",
    "    elif arr[i] == maximum:\n",
    "        last = i\n",
    "    i = i + 1\n",
    "print(\"Max:\", maximum, \", first occurence:\", first, \", last occurence:\", last)"
   ]
  },
  {
   "cell_type": "code",
   "execution_count": 28,
   "metadata": {},
   "outputs": [
    {
     "name": "stdout",
     "output_type": "stream",
     "text": [
      "[1, 2, 3, 4, 5, 6, 7, 8, 9, 10, 11, 12, 13, 14, 15]\n",
      "[15, 14, 13, 12, 11, 10, 9, 8, 7, 6, 5, 4, 3, 2, 1]\n"
     ]
    }
   ],
   "source": [
    "A = [1, 2, 3, 4, 5, 6, 7, 8, 9, 10, 11, 12, 13, 14, 15]\n",
    "i = 0\n",
    "first = 0\n",
    "last = 0\n",
    "N = len(A)\n",
    "\n",
    "print(A)\n",
    "while i < N/2:\n",
    "    first = A[i]\n",
    "    last = A[N - i - 1]\n",
    "    A[N - i - 1] = first\n",
    "    A[i] = last\n",
    "    i = i + 1\n",
    "\n",
    "print(A)"
   ]
  },
  {
   "cell_type": "code",
   "execution_count": 34,
   "metadata": {},
   "outputs": [
    {
     "name": "stdout",
     "output_type": "stream",
     "text": [
      "Average: 5.5\n"
     ]
    }
   ],
   "source": [
    "A = [1, 2, 3, 4, 5, 6, 7, 8, 9, 10]\n",
    "i = 0\n",
    "avg = 0\n",
    "N = len(A)\n",
    "\n",
    "while i < N:\n",
    "    avg = avg + A[i]\n",
    "    i = i + 1\n",
    "avg = avg/N\n",
    "print(\"Average:\", avg)"
   ]
  },
  {
   "cell_type": "code",
   "execution_count": 40,
   "metadata": {},
   "outputs": [
    {
     "name": "stdout",
     "output_type": "stream",
     "text": [
      "4.0\n"
     ]
    }
   ],
   "source": [
    "i = 0\n",
    "avg = 0\n",
    "while i < 3:\n",
    "    A = int(input(\"Enter a number: \"))\n",
    "    avg = avg + A\n",
    "    i = i + 1\n",
    "avg = avg/3\n",
    "print(avg)"
   ]
  },
  {
   "cell_type": "code",
   "execution_count": 41,
   "metadata": {},
   "outputs": [
    {
     "name": "stdout",
     "output_type": "stream",
     "text": [
      "1\n",
      "2\n",
      "3\n",
      "4\n",
      "3\n",
      "4\n",
      "5\n",
      "0\n"
     ]
    }
   ],
   "source": [
    "A = 1\n",
    "\n",
    "while A != 0:\n",
    "    A = int(input(\"Enter a number: \"))\n",
    "    print(A)\n"
   ]
  },
  {
   "cell_type": "code",
   "execution_count": 42,
   "metadata": {},
   "outputs": [
    {
     "name": "stdout",
     "output_type": "stream",
     "text": [
      "6\n"
     ]
    }
   ],
   "source": [
    "L = int(input(\"Enter in the Length: \"))\n",
    "W = int(input(\"Enter in the Width: \"))\n",
    "Area = L * W\n",
    "\n",
    "print(Area)\n"
   ]
  },
  {
   "cell_type": "code",
   "execution_count": 45,
   "metadata": {},
   "outputs": [
    {
     "name": "stdout",
     "output_type": "stream",
     "text": [
      "4\n",
      "7\n",
      "6\n"
     ]
    }
   ],
   "source": [
    "A = [3, 2, 4, 1, 3, 7, 5, 6, 4]\n",
    "i = 0\n",
    "\n",
    "while i < len(A):\n",
    "    if A[i] > A[i - 1] and A[i] > A[i + 1]:\n",
    "        print(A[i])\n",
    "    i = i + 1"
   ]
  },
  {
   "cell_type": "code",
   "execution_count": 47,
   "metadata": {},
   "outputs": [
    {
     "name": "stdout",
     "output_type": "stream",
     "text": [
      "Max: 7\n",
      "Occurences: 4\n"
     ]
    }
   ],
   "source": [
    "A = [1, 5, 2, 7, 4, 5, 4, 6, 7, 3, 2, 4, 7, 6, 4, 3, 7, 4, 3]\n",
    "i = 0\n",
    "max = 0\n",
    "count = 0\n",
    "\n",
    "while i < len(A):\n",
    "    if max < A[i]:\n",
    "        max = A[i]\n",
    "        count = 1\n",
    "    elif max == A[i]:\n",
    "        count = count + 1\n",
    "    i = i + 1\n",
    "print(\"Max:\", max)\n",
    "print(\"Occurences:\", count)"
   ]
  },
  {
   "cell_type": "code",
   "execution_count": 54,
   "metadata": {},
   "outputs": [
    {
     "name": "stdout",
     "output_type": "stream",
     "text": [
      "This is not a good grade\n"
     ]
    }
   ],
   "source": [
    "result = str(input(\"Enter your Grade in Capital: \"))\n",
    "\n",
    "if result == 'A':\n",
    "    print(\"Excellent\")\n",
    "elif result == 'B':\n",
    "    print(\"Very good\")\n",
    "elif result == 'C':\n",
    "    print(\"good\")\n",
    "else:\n",
    "    print(\"This is not a good grade\")"
   ]
  },
  {
   "cell_type": "code",
   "execution_count": 64,
   "metadata": {},
   "outputs": [
    {
     "name": "stdout",
     "output_type": "stream",
     "text": [
      "[1, 2, 3, 4, 5, 6, 7]\n",
      "[2, 3, 4, 5, 6, 7, 1]\n"
     ]
    }
   ],
   "source": [
    "A = [1, 2, 3, 4, 5, 6, 7]\n",
    "i = 1\n",
    "N = len(A)\n",
    "temp = A[0]\n",
    "\n",
    "print(A)\n",
    "while i < N:\n",
    "    A[i - 1] = A[i]\n",
    "    i = i + 1\n",
    "A[N - 1] = temp\n",
    "print(A)"
   ]
  },
  {
   "cell_type": "code",
   "execution_count": 5,
   "metadata": {},
   "outputs": [
    {
     "name": "stdout",
     "output_type": "stream",
     "text": [
      "1 by 1 is = 1\n",
      "1 by 2 is = 2\n",
      "1 by 3 is = 3\n",
      "1 by 4 is = 4\n",
      "1 by 5 is = 5\n",
      "1 by 6 is = 6\n",
      "1 by 7 is = 7\n",
      "1 by 8 is = 8\n",
      "1 by 9 is = 9\n",
      "1 by 10 is = 10\n",
      "1 by 11 is = 11\n",
      "1 by 12 is = 12\n",
      "2 by 1 is = 2\n",
      "2 by 2 is = 4\n",
      "2 by 3 is = 6\n",
      "2 by 4 is = 8\n",
      "2 by 5 is = 10\n",
      "2 by 6 is = 12\n",
      "2 by 7 is = 14\n",
      "2 by 8 is = 16\n",
      "2 by 9 is = 18\n",
      "2 by 10 is = 20\n",
      "2 by 11 is = 22\n",
      "2 by 12 is = 24\n",
      "3 by 1 is = 3\n",
      "3 by 2 is = 6\n",
      "3 by 3 is = 9\n",
      "3 by 4 is = 12\n",
      "3 by 5 is = 15\n",
      "3 by 6 is = 18\n",
      "3 by 7 is = 21\n",
      "3 by 8 is = 24\n",
      "3 by 9 is = 27\n",
      "3 by 10 is = 30\n",
      "3 by 11 is = 33\n",
      "3 by 12 is = 36\n",
      "4 by 1 is = 4\n",
      "4 by 2 is = 8\n",
      "4 by 3 is = 12\n",
      "4 by 4 is = 16\n",
      "4 by 5 is = 20\n",
      "4 by 6 is = 24\n",
      "4 by 7 is = 28\n",
      "4 by 8 is = 32\n",
      "4 by 9 is = 36\n",
      "4 by 10 is = 40\n",
      "4 by 11 is = 44\n",
      "4 by 12 is = 48\n",
      "5 by 1 is = 5\n",
      "5 by 2 is = 10\n",
      "5 by 3 is = 15\n",
      "5 by 4 is = 20\n",
      "5 by 5 is = 25\n",
      "5 by 6 is = 30\n",
      "5 by 7 is = 35\n",
      "5 by 8 is = 40\n",
      "5 by 9 is = 45\n",
      "5 by 10 is = 50\n",
      "5 by 11 is = 55\n",
      "5 by 12 is = 60\n"
     ]
    }
   ],
   "source": [
    "num = 1\n",
    "table = 1\n",
    "total = 0\n",
    "\n",
    "\n",
    "while num <= 5:\n",
    "    table = 1\n",
    "    while table <= 12:\n",
    "        total = num * table\n",
    "        print(num, \"by\", table, \"is =\", total)\n",
    "        table = table + 1\n",
    "    num = num + 1"
   ]
  },
  {
   "cell_type": "code",
   "execution_count": 68,
   "metadata": {},
   "outputs": [
    {
     "name": "stdout",
     "output_type": "stream",
     "text": [
      "7\n",
      "6\n",
      "13\n"
     ]
    }
   ],
   "source": [
    "Arr = [1, 2, 3, 4, 5, 6, 7, 1, 2, 3, 4, 5, 6, 7, 1, 2]\n",
    "max = Arr[0]\n",
    "first = 0\n",
    "last = 0\n",
    "i = 0\n",
    "\n",
    "\n",
    "while i < len(Arr):\n",
    "    if max < Arr[i]:\n",
    "        max = Arr[i]\n",
    "        first = i\n",
    "        last = i\n",
    "    elif max == Arr[i]:\n",
    "        last = i\n",
    "    i = i + 1\n",
    "print(max)\n",
    "print(first)\n",
    "print(last)"
   ]
  },
  {
   "cell_type": "code",
   "execution_count": 69,
   "metadata": {},
   "outputs": [
    {
     "name": "stdout",
     "output_type": "stream",
     "text": [
      "[1, 2, 3, 4, 5]\n",
      "[5, 4, 3, 2, 1]\n"
     ]
    }
   ],
   "source": [
    "A = [1, 2, 3, 4, 5]\n",
    "i = 0\n",
    "N = len(A)\n",
    "first = 0\n",
    "last = 0\n",
    "\n",
    "\n",
    "print(A)\n",
    "while i < N/2:\n",
    "    first = A[i]\n",
    "    last = A[N - i - 1]\n",
    "    A[i] = last\n",
    "    A[N - 1 - i] = first\n",
    "    i = i + 1\n",
    "print(A)"
   ]
  },
  {
   "cell_type": "code",
   "execution_count": 70,
   "metadata": {},
   "outputs": [
    {
     "name": "stdout",
     "output_type": "stream",
     "text": [
      "3.0\n"
     ]
    }
   ],
   "source": [
    "A = [1, 2, 3, 4, 5]\n",
    "i = 0\n",
    "avg = 0\n",
    "\n",
    "\n",
    "while i < len(A):\n",
    "    avg = avg + A[i]\n",
    "    i = i + 1\n",
    "avg = avg/len(A)\n",
    "print(avg)"
   ]
  },
  {
   "cell_type": "code",
   "execution_count": 6,
   "metadata": {},
   "outputs": [
    {
     "name": "stdout",
     "output_type": "stream",
     "text": [
      "Factorial of  3  is  6\n"
     ]
    }
   ],
   "source": [
    "n = int(input(\"Enter a positive integer: \"))\n",
    "fact = 1 \n",
    "i = 1\n",
    "\n",
    "\n",
    "while i <= n:\n",
    "    fact = fact * i\n",
    "    i = i + 1\n",
    "print(\"Factorial of \", n, \" is \", fact)"
   ]
  },
  {
   "cell_type": "code",
   "execution_count": 7,
   "metadata": {},
   "outputs": [
    {
     "ename": "KeyboardInterrupt",
     "evalue": "Interrupted by user",
     "output_type": "error",
     "traceback": [
      "\u001b[1;31m---------------------------------------------------------------------------\u001b[0m",
      "\u001b[1;31mKeyboardInterrupt\u001b[0m                         Traceback (most recent call last)",
      "Cell \u001b[1;32mIn[7], line 1\u001b[0m\n\u001b[1;32m----> 1\u001b[0m a \u001b[38;5;241m=\u001b[39m \u001b[38;5;28mint\u001b[39m(\u001b[38;5;28;43minput\u001b[39;49m\u001b[43m(\u001b[49m\u001b[38;5;124;43m\"\u001b[39;49m\u001b[38;5;124;43mEnter a year: \u001b[39;49m\u001b[38;5;124;43m\"\u001b[39;49m\u001b[43m)\u001b[49m)\n\u001b[0;32m      4\u001b[0m \u001b[38;5;28;01mif\u001b[39;00m a \u001b[38;5;241m%\u001b[39m \u001b[38;5;241m4\u001b[39m \u001b[38;5;241m==\u001b[39m \u001b[38;5;241m0\u001b[39m:\n\u001b[0;32m      5\u001b[0m     \u001b[38;5;28mprint\u001b[39m(\u001b[38;5;124m\"\u001b[39m\u001b[38;5;124mleap year\u001b[39m\u001b[38;5;124m\"\u001b[39m)\n",
      "File \u001b[1;32m~\\AppData\\Local\\Packages\\PythonSoftwareFoundation.Python.3.10_qbz5n2kfra8p0\\LocalCache\\local-packages\\Python310\\site-packages\\ipykernel\\kernelbase.py:1202\u001b[0m, in \u001b[0;36mKernel.raw_input\u001b[1;34m(self, prompt)\u001b[0m\n\u001b[0;32m   1200\u001b[0m     msg \u001b[38;5;241m=\u001b[39m \u001b[38;5;124m\"\u001b[39m\u001b[38;5;124mraw_input was called, but this frontend does not support input requests.\u001b[39m\u001b[38;5;124m\"\u001b[39m\n\u001b[0;32m   1201\u001b[0m     \u001b[38;5;28;01mraise\u001b[39;00m StdinNotImplementedError(msg)\n\u001b[1;32m-> 1202\u001b[0m \u001b[38;5;28;01mreturn\u001b[39;00m \u001b[38;5;28;43mself\u001b[39;49m\u001b[38;5;241;43m.\u001b[39;49m\u001b[43m_input_request\u001b[49m\u001b[43m(\u001b[49m\n\u001b[0;32m   1203\u001b[0m \u001b[43m    \u001b[49m\u001b[38;5;28;43mstr\u001b[39;49m\u001b[43m(\u001b[49m\u001b[43mprompt\u001b[49m\u001b[43m)\u001b[49m\u001b[43m,\u001b[49m\n\u001b[0;32m   1204\u001b[0m \u001b[43m    \u001b[49m\u001b[38;5;28;43mself\u001b[39;49m\u001b[38;5;241;43m.\u001b[39;49m\u001b[43m_parent_ident\u001b[49m\u001b[43m[\u001b[49m\u001b[38;5;124;43m\"\u001b[39;49m\u001b[38;5;124;43mshell\u001b[39;49m\u001b[38;5;124;43m\"\u001b[39;49m\u001b[43m]\u001b[49m\u001b[43m,\u001b[49m\n\u001b[0;32m   1205\u001b[0m \u001b[43m    \u001b[49m\u001b[38;5;28;43mself\u001b[39;49m\u001b[38;5;241;43m.\u001b[39;49m\u001b[43mget_parent\u001b[49m\u001b[43m(\u001b[49m\u001b[38;5;124;43m\"\u001b[39;49m\u001b[38;5;124;43mshell\u001b[39;49m\u001b[38;5;124;43m\"\u001b[39;49m\u001b[43m)\u001b[49m\u001b[43m,\u001b[49m\n\u001b[0;32m   1206\u001b[0m \u001b[43m    \u001b[49m\u001b[43mpassword\u001b[49m\u001b[38;5;241;43m=\u001b[39;49m\u001b[38;5;28;43;01mFalse\u001b[39;49;00m\u001b[43m,\u001b[49m\n\u001b[0;32m   1207\u001b[0m \u001b[43m\u001b[49m\u001b[43m)\u001b[49m\n",
      "File \u001b[1;32m~\\AppData\\Local\\Packages\\PythonSoftwareFoundation.Python.3.10_qbz5n2kfra8p0\\LocalCache\\local-packages\\Python310\\site-packages\\ipykernel\\kernelbase.py:1245\u001b[0m, in \u001b[0;36mKernel._input_request\u001b[1;34m(self, prompt, ident, parent, password)\u001b[0m\n\u001b[0;32m   1242\u001b[0m \u001b[38;5;28;01mexcept\u001b[39;00m \u001b[38;5;167;01mKeyboardInterrupt\u001b[39;00m:\n\u001b[0;32m   1243\u001b[0m     \u001b[38;5;66;03m# re-raise KeyboardInterrupt, to truncate traceback\u001b[39;00m\n\u001b[0;32m   1244\u001b[0m     msg \u001b[38;5;241m=\u001b[39m \u001b[38;5;124m\"\u001b[39m\u001b[38;5;124mInterrupted by user\u001b[39m\u001b[38;5;124m\"\u001b[39m\n\u001b[1;32m-> 1245\u001b[0m     \u001b[38;5;28;01mraise\u001b[39;00m \u001b[38;5;167;01mKeyboardInterrupt\u001b[39;00m(msg) \u001b[38;5;28;01mfrom\u001b[39;00m \u001b[38;5;28;01mNone\u001b[39;00m\n\u001b[0;32m   1246\u001b[0m \u001b[38;5;28;01mexcept\u001b[39;00m \u001b[38;5;167;01mException\u001b[39;00m:\n\u001b[0;32m   1247\u001b[0m     \u001b[38;5;28mself\u001b[39m\u001b[38;5;241m.\u001b[39mlog\u001b[38;5;241m.\u001b[39mwarning(\u001b[38;5;124m\"\u001b[39m\u001b[38;5;124mInvalid Message:\u001b[39m\u001b[38;5;124m\"\u001b[39m, exc_info\u001b[38;5;241m=\u001b[39m\u001b[38;5;28;01mTrue\u001b[39;00m)\n",
      "\u001b[1;31mKeyboardInterrupt\u001b[0m: Interrupted by user"
     ]
    }
   ],
   "source": [
    "a = int(input(\"Enter a year: \"))\n",
    "\n",
    "\n",
    "if a % 4 == 0:\n",
    "    print(\"leap year\")\n",
    "else:\n",
    "    print(\"Not leap year\")"
   ]
  },
  {
   "cell_type": "code",
   "execution_count": 12,
   "metadata": {},
   "outputs": [
    {
     "name": "stdout",
     "output_type": "stream",
     "text": [
      "3\n"
     ]
    }
   ],
   "source": [
    "A = [1, 2, 3, 4, 5, 6]\n",
    "count = 0\n",
    "i = 0\n",
    "\n",
    "\n",
    "while i < len(A):\n",
    "    if A[i] % 2 == 0:\n",
    "        count = count + 1\n",
    "    i = i + 1\n",
    "print(count)\n"
   ]
  },
  {
   "cell_type": "code",
   "execution_count": 13,
   "metadata": {},
   "outputs": [
    {
     "name": "stdout",
     "output_type": "stream",
     "text": [
      "True\n"
     ]
    }
   ],
   "source": [
    "x = (5 % 4) == (3 % 2)\n",
    "\n",
    "print(x)"
   ]
  },
  {
   "cell_type": "code",
   "execution_count": 20,
   "metadata": {},
   "outputs": [
    {
     "name": "stdout",
     "output_type": "stream",
     "text": [
      "10\n"
     ]
    }
   ],
   "source": [
    "a = int(input(\"Enter a positive integer\"))\n",
    "b = int(input(\"Enter a positive integer\"))\n",
    "c = int(input(\"Enter a positive integer\"))\n",
    "divisible = 0\n",
    "divisor = 1\n",
    "\n",
    "while divisor <= a:\n",
    "    if a % divisor == 0:\n",
    "        if b % divisor == 0:\n",
    "            if c % divisor == 0:\n",
    "                divisible = divisor\n",
    "    divisor = divisor + 1\n",
    "print(divisible)\n",
    "    "
   ]
  },
  {
   "cell_type": "code",
   "execution_count": 26,
   "metadata": {},
   "outputs": [
    {
     "name": "stdout",
     "output_type": "stream",
     "text": [
      "9 is not divisible\n"
     ]
    }
   ],
   "source": [
    "a = int(input(\"Enter a positive integer\"))\n",
    "b = int(input(\"Enter a positive integer\"))\n",
    "div = 0\n",
    "\n",
    "while div == 0:\n",
    "    if a < b:\n",
    "        while b > 0:\n",
    "            b = b - a\n",
    "        if b == 0:\n",
    "            print(a, \"is divisible\")\n",
    "        else:\n",
    "            print(a, \"is not divisible\")\n",
    "    else:\n",
    "        while a > 0:\n",
    "            a = a - b\n",
    "        if a == 0:\n",
    "            print(b, \"is divisible\")\n",
    "        else:\n",
    "            print(b, \"is not divisible\")\n",
    "    div = 1\n",
    "\n",
    "    "
   ]
  },
  {
   "cell_type": "code",
   "execution_count": 42,
   "metadata": {},
   "outputs": [
    {
     "name": "stdout",
     "output_type": "stream",
     "text": [
      "[4, 10, 3, 6, 8, 7, 9, 2, 5, 1]\n",
      "[1, 2, 3, 4, 5, 6, 7, 8, 9, 10]\n"
     ]
    }
   ],
   "source": [
    "A = [4, 10, 3, 6, 8, 7, 9, 2, 5, 1]\n",
    "sort = 0\n",
    "N = len(A)\n",
    "\n",
    "print(A)\n",
    "while sort < N:\n",
    "    i = 0\n",
    "    max = 0\n",
    "    while i < (N - sort):\n",
    "        if A[max] < A[i]:\n",
    "            max = i\n",
    "        i = i + 1\n",
    "            \n",
    "    temp = A[N - sort - 1]\n",
    "    A[N - sort - 1] = A[max]\n",
    "    A[max] = temp\n",
    "    \n",
    "    sort = sort + 1\n",
    "    \n",
    "print(A)\n"
   ]
  }
 ],
 "metadata": {
  "kernelspec": {
   "display_name": "Python 3",
   "language": "python",
   "name": "python3"
  },
  "language_info": {
   "codemirror_mode": {
    "name": "ipython",
    "version": 3
   },
   "file_extension": ".py",
   "mimetype": "text/x-python",
   "name": "python",
   "nbconvert_exporter": "python",
   "pygments_lexer": "ipython3",
   "version": "3.10.11"
  }
 },
 "nbformat": 4,
 "nbformat_minor": 2
}
